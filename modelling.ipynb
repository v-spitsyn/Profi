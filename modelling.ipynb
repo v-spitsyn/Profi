{
 "cells": [
  {
   "cell_type": "code",
   "execution_count": 24,
   "metadata": {},
   "outputs": [],
   "source": [
    "from itertools import chain, combinations\n",
    "import pathlib\n",
    "\n",
    "import matplotlib.pyplot as plt\n",
    "import numpy as np\n",
    "import pandas as pd\n",
    "from sklearn.ensemble import RandomForestRegressor\n",
    "from sklearn.metrics import make_scorer\n",
    "from sklearn.model_selection import GridSearchCV "
   ]
  },
  {
   "cell_type": "code",
   "execution_count": 25,
   "metadata": {},
   "outputs": [],
   "source": [
    "%matplotlib inline"
   ]
  },
  {
   "cell_type": "code",
   "execution_count": 26,
   "metadata": {},
   "outputs": [],
   "source": [
    "PROJECT_FOLDER_PATH = pathlib.Path().resolve().parent#'C:/Users/Arenter/Documents/Python Scripts/rent/Avito'\n",
    "EDA_DF_PATH = PROJECT_FOLDER_PATH / 'data/interim/eda_df.csv'"
   ]
  },
  {
   "cell_type": "code",
   "execution_count": 27,
   "metadata": {},
   "outputs": [],
   "source": [
    "def powerset(iterable):\n",
    "    s = list(iterable)\n",
    "    return chain.from_iterable(combinations(s, r) for r in range(1, len(s)+1))"
   ]
  },
  {
   "cell_type": "code",
   "execution_count": 28,
   "metadata": {},
   "outputs": [],
   "source": [
    "def mean_absolute_percentage_error(y_true, y_pred):\n",
    "    return np.mean(np.abs((y_true - y_pred) / y_true)) * 100"
   ]
  },
  {
   "cell_type": "code",
   "execution_count": 29,
   "metadata": {},
   "outputs": [],
   "source": [
    "df = pd.read_csv(EDA_DF_PATH, index_col=0, parse_dates=['parsing_date', 'pub_date', 'pub_time'])\n",
    "df = df[(df['pub_date'] >= pd.to_datetime('2020-08-01')) & (df['parsing_date'] != '2020-08-12')]\n",
    "df = df[df['y'] < 4]"
   ]
  },
  {
   "cell_type": "code",
   "execution_count": 30,
   "metadata": {},
   "outputs": [
    {
     "data": {
      "text/plain": [
       "<matplotlib.axes._subplots.AxesSubplot at 0x23e4a313a00>"
      ]
     },
     "execution_count": 30,
     "metadata": {},
     "output_type": "execute_result"
    },
    {
     "data": {
      "image/png": "[encoded data removed]",
      "text/plain": [
       "<Figure size 432x288 with 1 Axes>"
      ]
     },
     "metadata": {
      "needs_background": "light"
     },
     "output_type": "display_data"
    }
   ],
   "source": [
    "df.boxplot('y', by='n_rooms')"
   ]
  },
  {
   "cell_type": "code",
   "execution_count": 31,
   "metadata": {},
   "outputs": [],
   "source": [
    "df['first_floor'] = (df['floor'] == 1).astype(int)\n",
    "df['last_floor'] = (df['floor'] == df['n_floors']).astype(int)\n",
    "\n",
    "df.drop(columns=['commission_percent', 'pub_date', 'pub_time', 'n_days', 'n_floors', 'rent'], inplace=True)"
   ]
  },
  {
   "cell_type": "code",
   "execution_count": 32,
   "metadata": {},
   "outputs": [
    {
     "data": {
      "text/plain": [
       "Index(['station_distance', 'studio', 'n_rooms', 'area', 'floor', 'mcc',\n",
       "       'circle', 'center_distance', 'parsing_date', 'y', 'first_floor',\n",
       "       'last_floor'],\n",
       "      dtype='object')"
      ]
     },
     "execution_count": 32,
     "metadata": {},
     "output_type": "execute_result"
    }
   ],
   "source": [
    "df_cv = df[df['parsing_date'] < pd.to_datetime('2020-08-13')].drop(columns='parsing_date')\n",
    "df_eval = df[df['parsing_date'] >= pd.to_datetime('2020-08-13')].drop(columns='parsing_date')\n",
    "df.columns"
   ]
  },
  {
   "cell_type": "code",
   "execution_count": 33,
   "metadata": {},
   "outputs": [],
   "source": [
    "mape_scorer = make_scorer(mean_absolute_percentage_error, greater_is_better=False)\n",
    "scores = {'subset': [],\n",
    "          'model_cv': [],\n",
    "          'holdout': []\n",
    "          }\n",
    "floor_features = ['first_floor', 'last_floor', 'floor']\n",
    "regular_features = list(set(df_cv.columns) - set(floor_features + ['y']))\n",
    "rf = RandomForestRegressor(n_estimators=500, n_jobs=2, random_state=1)\n",
    "for floor_features_subset in list(powerset(floor_features)):\n",
    "    X_cv, y_cv = df_cv[regular_features + list(floor_features_subset)], df_cv['y']\n",
    "    X_eval, y_eval = df_eval[regular_features + list(floor_features_subset)], df_eval['y']\n",
    "    params_space = {\n",
    "                    'criterion': ['mse', 'mae'],\n",
    "                    'min_samples_leaf': [1, 5, 10, 20, 50, 70, 100]\n",
    "                    }\n",
    "    opt = GridSearchCV(rf, params_space, scoring=mape_scorer, cv=4,\n",
    "                        n_jobs=-1, return_train_score=True)\n",
    "    opt.fit(X_cv, y_cv)\n",
    "    scores['subset'].append(floor_features_subset)\n",
    "    scores['model_cv'].append(opt)\n",
    "    scores['holdout'].append(mean_absolute_percentage_error(y_eval, opt.predict(X_eval)))"
   ]
  },
  {
   "cell_type": "code",
   "execution_count": 35,
   "metadata": {},
   "outputs": [
    {
     "data": {
      "text/plain": [
       "{'subset': [('first_floor',),\n",
       "  ('last_floor',),\n",
       "  ('floor',),\n",
       "  ('first_floor', 'last_floor'),\n",
       "  ('first_floor', 'floor'),\n",
       "  ('last_floor', 'floor'),\n",
       "  ('first_floor', 'last_floor', 'floor')],\n",
       " 'model_cv': [GridSearchCV(cv=4,\n",
       "               estimator=RandomForestRegressor(n_estimators=500, n_jobs=2,\n",
       "                                               random_state=1),\n",
       "               n_jobs=-1,\n",
       "               param_grid={'criterion': ['mse', 'mae'],\n",
       "                           'min_samples_leaf': [1, 5, 10, 20, 50, 70, 100]},\n",
       "               return_train_score=True,\n",
       "               scoring=make_scorer(mean_absolute_percentage_error, greater_is_better=False)),\n",
       "  GridSearchCV(cv=4,\n",
       "               estimator=RandomForestRegressor(n_estimators=500, n_jobs=2,\n",
       "                                               random_state=1),\n",
       "               n_jobs=-1,\n",
       "               param_grid={'criterion': ['mse', 'mae'],\n",
       "                           'min_samples_leaf': [1, 5, 10, 20, 50, 70, 100]},\n",
       "               return_train_score=True,\n",
       "               scoring=make_scorer(mean_absolute_percentage_error, greater_is_better=False)),\n",
       "  GridSearchCV(cv=4,\n",
       "               estimator=RandomForestRegressor(n_estimators=500, n_jobs=2,\n",
       "                                               random_state=1),\n",
       "               n_jobs=-1,\n",
       "               param_grid={'criterion': ['mse', 'mae'],\n",
       "                           'min_samples_leaf': [1, 5, 10, 20, 50, 70, 100]},\n",
       "               return_train_score=True,\n",
       "               scoring=make_scorer(mean_absolute_percentage_error, greater_is_better=False)),\n",
       "  GridSearchCV(cv=4,\n",
       "               estimator=RandomForestRegressor(n_estimators=500, n_jobs=2,\n",
       "                                               random_state=1),\n",
       "               n_jobs=-1,\n",
       "               param_grid={'criterion': ['mse', 'mae'],\n",
       "                           'min_samples_leaf': [1, 5, 10, 20, 50, 70, 100]},\n",
       "               return_train_score=True,\n",
       "               scoring=make_scorer(mean_absolute_percentage_error, greater_is_better=False)),\n",
       "  GridSearchCV(cv=4,\n",
       "               estimator=RandomForestRegressor(n_estimators=500, n_jobs=2,\n",
       "                                               random_state=1),\n",
       "               n_jobs=-1,\n",
       "               param_grid={'criterion': ['mse', 'mae'],\n",
       "                           'min_samples_leaf': [1, 5, 10, 20, 50, 70, 100]},\n",
       "               return_train_score=True,\n",
       "               scoring=make_scorer(mean_absolute_percentage_error, greater_is_better=False)),\n",
       "  GridSearchCV(cv=4,\n",
       "               estimator=RandomForestRegressor(n_estimators=500, n_jobs=2,\n",
       "                                               random_state=1),\n",
       "               n_jobs=-1,\n",
       "               param_grid={'criterion': ['mse', 'mae'],\n",
       "                           'min_samples_leaf': [1, 5, 10, 20, 50, 70, 100]},\n",
       "               return_train_score=True,\n",
       "               scoring=make_scorer(mean_absolute_percentage_error, greater_is_better=False)),\n",
       "  GridSearchCV(cv=4,\n",
       "               estimator=RandomForestRegressor(n_estimators=500, n_jobs=2,\n",
       "                                               random_state=1),\n",
       "               n_jobs=-1,\n",
       "               param_grid={'criterion': ['mse', 'mae'],\n",
       "                           'min_samples_leaf': [1, 5, 10, 20, 50, 70, 100]},\n",
       "               return_train_score=True,\n",
       "               scoring=make_scorer(mean_absolute_percentage_error, greater_is_better=False))],\n",
       " 'holdout': [17.173505765803508,\n",
       "  17.082194205017025,\n",
       "  16.92329696232591,\n",
       "  17.12642631095012,\n",
       "  16.953465321052747,\n",
       "  16.959011684429072,\n",
       "  16.94592970465581]}"
      ]
     },
     "execution_count": 35,
     "metadata": {},
     "output_type": "execute_result"
    }
   ],
   "source": [
    "scores"
   ]
  },
  {
   "cell_type": "code",
   "execution_count": 36,
   "metadata": {},
   "outputs": [
    {
     "data": {
      "text/plain": [
       "7"
      ]
     },
     "execution_count": 36,
     "metadata": {},
     "output_type": "execute_result"
    }
   ],
   "source": [
    "len(scores['holdout'])"
   ]
  }
 ],
 "metadata": {
  "kernelspec": {
   "display_name": "Python 3",
   "language": "python",
   "name": "python3"
  },
  "language_info": {
   "codemirror_mode": {
    "name": "ipython",
    "version": 3
   },
   "file_extension": ".py",
   "mimetype": "text/x-python",
   "name": "python",
   "nbconvert_exporter": "python",
   "pygments_lexer": "ipython3",
   "version": "3.8.3"
  }
 },
 "nbformat": 4,
 "nbformat_minor": 4
}
